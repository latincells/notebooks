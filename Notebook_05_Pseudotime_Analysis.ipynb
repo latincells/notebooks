{
  "nbformat": 4,
  "nbformat_minor": 0,
  "metadata": {
    "colab": {
      "provenance": []
    },
    "kernelspec": {
      "name": "ir",
      "display_name": "R"
    },
    "language_info": {
      "name": "R"
    }
  },
  "cells": [
    {
      "cell_type": "markdown",
      "source": [
        "# Trajectory inference and pseudotemporal ordering"
      ],
      "metadata": {
        "id": "b5fMowVXinnt"
      }
    },
    {
      "cell_type": "markdown",
      "source": [
        "## Install the required libraries"
      ],
      "metadata": {
        "id": "1qOd4r2Siqug"
      }
    },
    {
      "cell_type": "code",
      "source": [
        "download.file(\"https://github.com/eddelbuettel/r2u/raw/master/inst/scripts/add_cranapt_jammy.sh\",\n",
        "              \"add_cranapt_jammy.sh\")\n",
        "Sys.chmod(\"add_cranapt_jammy.sh\", \"0755\")\n",
        "system(\"./add_cranapt_jammy.sh\")\n",
        "bspm::enable()\n",
        "options(bspm.version.check=FALSE)\n",
        "system(\"rm add_cranapt_jammy.sh\")"
      ],
      "metadata": {
        "id": "GoQmbEWCiWp5",
        "colab": {
          "base_uri": "https://localhost:8080/"
        },
        "outputId": "126a3619-6ee9-4a09-c6b9-14f91dcdec54"
      },
      "execution_count": null,
      "outputs": [
        {
          "output_type": "stream",
          "name": "stderr",
          "text": [
            "Tracing function \"install.packages\" in package \"utils\"\n",
            "\n"
          ]
        }
      ]
    },
    {
      "cell_type": "markdown",
      "source": [
        "We will create an R function to performs system calls"
      ],
      "metadata": {
        "id": "U2cdonBMivhZ"
      }
    },
    {
      "cell_type": "code",
      "execution_count": null,
      "metadata": {
        "id": "6uBhWJgUiHVH"
      },
      "outputs": [],
      "source": [
        "shell_call <- function(command, ...) {\n",
        "  result <- system(command, intern = TRUE, ...)\n",
        "  cat(paste0(result, collapse = \"\\n\"))\n",
        "}"
      ]
    },
    {
      "cell_type": "markdown",
      "source": [
        "Install required libraries"
      ],
      "metadata": {
        "id": "I2EVnawvpIa8"
      }
    },
    {
      "cell_type": "code",
      "source": [
        "install.packages(\"R.utils\")\n",
        "remotes::install_github('satijalab/seurat-wrappers@d28512f804d5fe05e6d68900ca9221020d52cf1d', upgrade=F)\n",
        "remotes::install_github('satijalab/seurat-data')\n",
        "\n",
        "if (!require(\"BiocManager\", quietly = TRUE))\n",
        "    install.packages(\"BiocManager\", quiet = T)\n",
        "\n",
        "install.packages(\"harmony\")\n",
        "BiocManager::install(\"clusterProfiler\",update = T,ask=F,force=T)\n",
        "BiocManager::install(\"destiny\", update = F)\n",
        "remotes::install_github('cole-trapnell-lab/monocle3')\n",
        "#install.packages(\"https://cran.r-project.org/src/contrib/Archive/Matrix/Matrix_1.5-3.tar.gz\", repos=NULL, type=\"source\")"
      ],
      "metadata": {
        "id": "1EgIyBgfmlfB",
        "colab": {
          "base_uri": "https://localhost:8080/"
        },
        "outputId": "84a2af58-fb19-437d-a633-18dbcf12cdbc"
      },
      "execution_count": null,
      "outputs": [
        {
          "output_type": "stream",
          "name": "stderr",
          "text": [
            "Downloading GitHub repo satijalab/seurat-wrappers@d28512f804d5fe05e6d68900ca9221020d52cf1d\n",
            "\n",
            "Installing 72 packages: Rcpp, sitmo, BH, dqrng, RcppProgress, irlba, RcppAnnoy, FNN, polyclip, deldir, spatstat.utils, spatstat.data, tensor, abind, goftest, spatstat.sparse, spatstat.random, spatstat.geom, promises, later, sourcetools, xtable, httpuv, parallelly, listenv, globals, RcppEigen, progressr, future.apply, future, sp, plyr, RcppArmadillo, matrixStats, gridExtra, reshape2, bitops, caTools, gtools, gplots, png, here, RcppTOML, crosstalk, lazyeval, htmlwidgets, shiny, zoo, igraph, reticulate, uwot, spatstat.explore, SeuratObject, sctransform, scattermore, Rtsne, ROCR, RANN, plotly, pbapply, patchwork, miniUI, lmtest, leiden, ica, ggridges, ggrepel, fitdistrplus, cowplot, Seurat, rsvd, BiocManager\n",
            "\n"
          ]
        },
        {
          "output_type": "stream",
          "name": "stdout",
          "text": [
            "\u001b[36m──\u001b[39m \u001b[36mR CMD build\u001b[39m \u001b[36m─────────────────────────────────────────────────────────────────\u001b[39m\n",
            "* checking for file ‘/tmp/Rtmp6L5c7F/remotes947619dc32/satijalab-seurat-wrappers-d28512f/DESCRIPTION’ ... OK\n",
            "* preparing ‘SeuratWrappers’:\n",
            "* checking DESCRIPTION meta-information ... OK\n",
            "* checking for LF line-endings in source and make files and shell scripts\n",
            "* checking for empty or unneeded directories\n",
            "Omitted ‘LazyData’ from DESCRIPTION\n",
            "* building ‘SeuratWrappers_0.3.1.tar.gz’\n",
            "\n"
          ]
        },
        {
          "output_type": "stream",
          "name": "stderr",
          "text": [
            "Installing package into ‘/usr/local/lib/R/site-library’\n",
            "(as ‘lib’ is unspecified)\n",
            "\n",
            "Downloading GitHub repo satijalab/seurat-data@HEAD\n",
            "\n"
          ]
        },
        {
          "output_type": "stream",
          "name": "stdout",
          "text": [
            "\n",
            "\u001b[36m──\u001b[39m \u001b[36mR CMD build\u001b[39m \u001b[36m─────────────────────────────────────────────────────────────────\u001b[39m\n",
            "* checking for file ‘/tmp/Rtmp6L5c7F/remotes945e4c4c5b/satijalab-seurat-data-d6a8ce6/DESCRIPTION’ ... OK\n",
            "* preparing ‘SeuratData’:\n",
            "* checking DESCRIPTION meta-information ... OK\n",
            "* checking for LF line-endings in source and make files and shell scripts\n",
            "* checking for empty or unneeded directories\n",
            "Omitted ‘LazyData’ from DESCRIPTION\n",
            "* building ‘SeuratData_0.2.2.tar.gz’\n",
            "\n"
          ]
        },
        {
          "output_type": "stream",
          "name": "stderr",
          "text": [
            "Installing package into ‘/usr/local/lib/R/site-library’\n",
            "(as ‘lib’ is unspecified)\n",
            "\n",
            "'getOption(\"repos\")' replaces Bioconductor standard repositories, see\n",
            "'help(\"repositories\", package = \"BiocManager\")' for details.\n",
            "Replacement repositories:\n",
            "    CRAN: https://cran.rstudio.com\n",
            "\n",
            "Bioconductor version 3.17 (BiocManager 1.30.22), R 4.3.1 (2023-06-16)\n",
            "\n",
            "Installing package(s) 'BiocVersion', 'clusterProfiler'\n",
            "\n",
            "Old packages: 'bit', 'curl', 'devtools', 'DOSE', 'gargle', 'highr', 'isoband',\n",
            "  'openssl', 'ragg', 'roxygen2', 'spatstat.data', 'spatstat.sparse',\n",
            "  'spatstat.utils', 'textshaping', 'utf8', 'whisker', 'boot', 'lattice'\n",
            "\n",
            "'getOption(\"repos\")' replaces Bioconductor standard repositories, see\n",
            "'help(\"repositories\", package = \"BiocManager\")' for details.\n",
            "Replacement repositories:\n",
            "    CRAN: https://cran.rstudio.com\n",
            "\n",
            "Bioconductor version 3.17 (BiocManager 1.30.22), R 4.3.1 (2023-06-16)\n",
            "\n",
            "Installing package(s) 'destiny'\n",
            "\n",
            "Downloading GitHub repo cole-trapnell-lab/monocle3@HEAD\n",
            "\n"
          ]
        },
        {
          "output_type": "stream",
          "name": "stdout",
          "text": [
            "wk           (NA -> 0.9.0  ) [CRAN]\n",
            "units        (NA -> 0.8-4  ) [CRAN]\n",
            "s2           (NA -> 1.1.4  ) [CRAN]\n",
            "classInt     (NA -> 0.4-10 ) [CRAN]\n",
            "warp         (NA -> 0.2.0  ) [CRAN]\n",
            "Rhdf5lib     (NA -> 1.22.1 ) [CRAN]\n",
            "rhdf5filters (NA -> 1.12.1 ) [CRAN]\n",
            "vipor        (NA -> 0.4.5  ) [CRAN]\n",
            "beeswarm     (NA -> 0.4.0  ) [CRAN]\n",
            "sparseMat... (NA -> 1.12.2 ) [CRAN]\n",
            "beachmat     (NA -> 2.16.0 ) [CRAN]\n",
            "DelayedMa... (NA -> 1.22.6 ) [CRAN]\n",
            "ScaledMatrix (NA -> 1.8.1  ) [CRAN]\n",
            "biglm        (NA -> 0.9-2.1) [CRAN]\n",
            "sf           (NA -> 1.0-14 ) [CRAN]\n",
            "spData       (NA -> 2.3.0  ) [CRAN]\n",
            "slider       (NA -> 0.3.1  ) [CRAN]\n",
            "furrr        (NA -> 0.3.1  ) [CRAN]\n",
            "rhdf5        (NA -> 2.44.0 ) [CRAN]\n",
            "ggbeeswarm   (NA -> 0.7.2  ) [CRAN]\n",
            "Cairo        (NA -> 1.6-1  ) [CRAN]\n",
            "ResidualM... (NA -> 1.10.0 ) [CRAN]\n",
            "scuttle      (NA -> 1.10.3 ) [CRAN]\n",
            "BiocSingular (NA -> 1.16.0 ) [CRAN]\n",
            "BiocNeigh... (NA -> 1.18.0 ) [CRAN]\n",
            "terra        (NA -> 1.7-55 ) [CRAN]\n",
            "speedglm     (NA -> 0.3-5  ) [CRAN]\n",
            "spdep        (NA -> 1.2-8  ) [CRAN]\n",
            "slam         (NA -> 0.1-50 ) [CRAN]\n",
            "rsample      (NA -> 1.2.0  ) [CRAN]\n",
            "pscl         (NA -> 1.5.5.1) [CRAN]\n",
            "pheatmap     (NA -> 1.0.12 ) [CRAN]\n",
            "pbmcapply    (NA -> 1.5.1  ) [CRAN]\n",
            "limma        (NA -> 3.56.2 ) [CRAN]\n",
            "leidenbase   (NA -> 0.1.25 ) [CRAN]\n",
            "HDF5Array    (NA -> 1.28.1 ) [CRAN]\n",
            "grr          (NA -> 0.9.5  ) [CRAN]\n",
            "ggrastr      (NA -> 1.0.2  ) [CRAN]\n",
            "batchelor    (NA -> 1.16.0 ) [CRAN]\n",
            "assertthat   (NA -> 0.2.1  ) [CRAN]\n"
          ]
        },
        {
          "output_type": "stream",
          "name": "stderr",
          "text": [
            "Installing 40 packages: wk, units, s2, classInt, warp, Rhdf5lib, rhdf5filters, vipor, beeswarm, sparseMatrixStats, beachmat, DelayedMatrixStats, ScaledMatrix, biglm, sf, spData, slider, furrr, rhdf5, ggbeeswarm, Cairo, ResidualMatrix, scuttle, BiocSingular, BiocNeighbors, terra, speedglm, spdep, slam, rsample, pscl, pheatmap, pbmcapply, limma, leidenbase, HDF5Array, grr, ggrastr, batchelor, assertthat\n",
            "\n",
            "Installing package into ‘/usr/local/lib/R/site-library’\n",
            "(as ‘lib’ is unspecified)\n",
            "\n"
          ]
        },
        {
          "output_type": "stream",
          "name": "stdout",
          "text": [
            "\u001b[36m──\u001b[39m \u001b[36mR CMD build\u001b[39m \u001b[36m─────────────────────────────────────────────────────────────────\u001b[39m\n",
            "* checking for file ‘/tmp/Rtmp6L5c7F/remotes942d304dc0/cole-trapnell-lab-monocle3-2b17745/DESCRIPTION’ ... OK\n",
            "* preparing ‘monocle3’:\n",
            "* checking DESCRIPTION meta-information ... OK\n",
            "* cleaning src\n",
            "* checking for LF line-endings in source and make files and shell scripts\n",
            "* checking for empty or unneeded directories\n",
            "Omitted ‘LazyData’ from DESCRIPTION\n",
            "* building ‘monocle3_1.3.4.tar.gz’\n",
            "\n"
          ]
        },
        {
          "output_type": "stream",
          "name": "stderr",
          "text": [
            "Installing package into ‘/usr/local/lib/R/site-library’\n",
            "(as ‘lib’ is unspecified)\n",
            "\n"
          ]
        }
      ]
    },
    {
      "cell_type": "markdown",
      "source": [
        "## Introduction"
      ],
      "metadata": {
        "id": "vjg2X61cpzdh"
      }
    },
    {
      "cell_type": "markdown",
      "source": [
        "Cells transition from one state to another during development and throughout life. In each of these states, their gene expression changes in a dynamic way, wherein some of them get activated an others silenced. Using single-cell RNA-seq data, computational tools such as Monocle3 can infer the single-cell trajectories that cells undergo when transitioning across the different functional states.\n",
        "\n",
        "In this tutorial we will explore how the cellular trajectories and pseudotime can be inferred using Monocle3.\n",
        "\n",
        "This tutorial is based and inspired on these other tutorials:\n",
        "\n",
        "- [Original tutorial of Monocle3](https://cole-trapnell-lab.github.io/monocle3/docs/trajectories/)\n",
        "- [Tutorial combining Seurat and Monocle3 by the Stuart Lab](https://stuartlab.org/signac/articles/monocle.html)\n",
        "- [Tutorial combining Seurat and Monocle3 by Mahima Bose](https://rpubs.com/mahima_bose/Seurat_and_Monocle3_p)\n",
        "\n",
        "![Monocle3](https://cole-trapnell-lab.github.io/monocle3/images/manual_images/embryo_pr_graph_by_pseudotime.png)"
      ],
      "metadata": {
        "id": "wsg9Zkncp2gF"
      }
    },
    {
      "cell_type": "code",
      "source": [
        "library(monocle3)\n",
        "library(Seurat)\n",
        "library(SeuratData)\n",
        "library(SeuratWrappers)\n",
        "library(patchwork)\n",
        "library(harmony)\n",
        "library(ggplot2)"
      ],
      "metadata": {
        "id": "XFQkSMjPo1U6",
        "colab": {
          "base_uri": "https://localhost:8080/"
        },
        "outputId": "adddf983-c8ec-4981-a0ad-afaa47e627e2"
      },
      "execution_count": null,
      "outputs": [
        {
          "output_type": "stream",
          "name": "stderr",
          "text": [
            "Loading required package: Biobase\n",
            "\n",
            "Loading required package: BiocGenerics\n",
            "\n",
            "\n",
            "Attaching package: ‘BiocGenerics’\n",
            "\n",
            "\n",
            "The following objects are masked from ‘package:stats’:\n",
            "\n",
            "    IQR, mad, sd, var, xtabs\n",
            "\n",
            "\n",
            "The following objects are masked from ‘package:base’:\n",
            "\n",
            "    anyDuplicated, aperm, append, as.data.frame, basename, cbind,\n",
            "    colnames, dirname, do.call, duplicated, eval, evalq, Filter, Find,\n",
            "    get, grep, grepl, intersect, is.unsorted, lapply, Map, mapply,\n",
            "    match, mget, order, paste, pmax, pmax.int, pmin, pmin.int,\n",
            "    Position, rank, rbind, Reduce, rownames, sapply, setdiff, sort,\n",
            "    table, tapply, union, unique, unsplit, which.max, which.min\n",
            "\n",
            "\n",
            "Welcome to Bioconductor\n",
            "\n",
            "    Vignettes contain introductory material; view with\n",
            "    'browseVignettes()'. To cite Bioconductor, see\n",
            "    'citation(\"Biobase\")', and for packages 'citation(\"pkgname\")'.\n",
            "\n",
            "\n",
            "Loading required package: SingleCellExperiment\n",
            "\n",
            "Loading required package: SummarizedExperiment\n",
            "\n",
            "Loading required package: MatrixGenerics\n",
            "\n",
            "Loading required package: matrixStats\n",
            "\n",
            "\n",
            "Attaching package: ‘matrixStats’\n",
            "\n",
            "\n",
            "The following objects are masked from ‘package:Biobase’:\n",
            "\n",
            "    anyMissing, rowMedians\n",
            "\n",
            "\n",
            "\n",
            "Attaching package: ‘MatrixGenerics’\n",
            "\n",
            "\n",
            "The following objects are masked from ‘package:matrixStats’:\n",
            "\n",
            "    colAlls, colAnyNAs, colAnys, colAvgsPerRowSet, colCollapse,\n",
            "    colCounts, colCummaxs, colCummins, colCumprods, colCumsums,\n",
            "    colDiffs, colIQRDiffs, colIQRs, colLogSumExps, colMadDiffs,\n",
            "    colMads, colMaxs, colMeans2, colMedians, colMins, colOrderStats,\n",
            "    colProds, colQuantiles, colRanges, colRanks, colSdDiffs, colSds,\n",
            "    colSums2, colTabulates, colVarDiffs, colVars, colWeightedMads,\n",
            "    colWeightedMeans, colWeightedMedians, colWeightedSds,\n",
            "    colWeightedVars, rowAlls, rowAnyNAs, rowAnys, rowAvgsPerColSet,\n",
            "    rowCollapse, rowCounts, rowCummaxs, rowCummins, rowCumprods,\n",
            "    rowCumsums, rowDiffs, rowIQRDiffs, rowIQRs, rowLogSumExps,\n",
            "    rowMadDiffs, rowMads, rowMaxs, rowMeans2, rowMedians, rowMins,\n",
            "    rowOrderStats, rowProds, rowQuantiles, rowRanges, rowRanks,\n",
            "    rowSdDiffs, rowSds, rowSums2, rowTabulates, rowVarDiffs, rowVars,\n",
            "    rowWeightedMads, rowWeightedMeans, rowWeightedMedians,\n",
            "    rowWeightedSds, rowWeightedVars\n",
            "\n",
            "\n",
            "The following object is masked from ‘package:Biobase’:\n",
            "\n",
            "    rowMedians\n",
            "\n",
            "\n",
            "Loading required package: GenomicRanges\n",
            "\n",
            "Loading required package: stats4\n",
            "\n",
            "Loading required package: S4Vectors\n",
            "\n",
            "\n",
            "Attaching package: ‘S4Vectors’\n",
            "\n",
            "\n",
            "The following object is masked from ‘package:utils’:\n",
            "\n",
            "    findMatches\n",
            "\n",
            "\n",
            "The following objects are masked from ‘package:base’:\n",
            "\n",
            "    expand.grid, I, unname\n",
            "\n",
            "\n",
            "Loading required package: IRanges\n",
            "\n",
            "Loading required package: GenomeInfoDb\n",
            "\n",
            "Warning message:\n",
            "“replacing previous import ‘S4Arrays::read_block’ by ‘DelayedArray::read_block’ when loading ‘SummarizedExperiment’”\n",
            "\n",
            "Attaching package: ‘monocle3’\n",
            "\n",
            "\n",
            "The following objects are masked from ‘package:Biobase’:\n",
            "\n",
            "    exprs, fData, fData<-, pData, pData<-\n",
            "\n",
            "\n",
            "Attaching SeuratObject\n",
            "\n",
            "‘SeuratObject’ was built under R 4.3.0 but the current version is\n",
            "4.3.1; it is recomended that you reinstall ‘SeuratObject’ as the ABI\n",
            "for R may have changed\n",
            "\n",
            "\n",
            "Attaching package: ‘Seurat’\n",
            "\n",
            "\n",
            "The following object is masked from ‘package:SummarizedExperiment’:\n",
            "\n",
            "    Assays\n",
            "\n",
            "\n",
            "Loading required package: Rcpp\n",
            "\n"
          ]
        }
      ]
    },
    {
      "cell_type": "markdown",
      "source": [
        "## Loading Data"
      ],
      "metadata": {
        "id": "imGhC2zTz1F1"
      }
    },
    {
      "cell_type": "markdown",
      "source": [
        "Here we load our datasets of interest to perform the integration.\n",
        "\n",
        "This tutorial walks through an alignment of two groups of PBMCs from [Kang et al, 2017](https://www.nature.com/articles/nbt.4042). In this experiment, PBMCs were split into a stimulated and control group and the stimulated group was treated with interferon beta. The response to interferon caused cell type specific gene expression changes that makes a joint analysis of all the data difficult, with cells clustering both by stimulation condition and by cell type."
      ],
      "metadata": {
        "id": "v5fMnPapoqol"
      }
    },
    {
      "cell_type": "code",
      "source": [
        "# install dataset\n",
        "InstallData(\"ifnb\")"
      ],
      "metadata": {
        "id": "rnsZgIwovwJh",
        "colab": {
          "base_uri": "https://localhost:8080/"
        },
        "outputId": "cbc5d4b9-ea69-4302-8917-1cfbac85faa7"
      },
      "execution_count": null,
      "outputs": [
        {
          "output_type": "stream",
          "name": "stderr",
          "text": [
            "Installing package into ‘/usr/local/lib/R/site-library’\n",
            "(as ‘lib’ is unspecified)\n",
            "\n"
          ]
        }
      ]
    },
    {
      "cell_type": "code",
      "source": [
        "# load dataset\n",
        "LoadData(\"ifnb\")"
      ],
      "metadata": {
        "id": "wiLfUEn0Ym6R",
        "colab": {
          "base_uri": "https://localhost:8080/",
          "height": 69
        },
        "outputId": "aef6a847-ee82-4dbc-eff4-fb80d7847b14"
      },
      "execution_count": null,
      "outputs": [
        {
          "output_type": "display_data",
          "data": {
            "text/plain": [
              "An object of class Seurat \n",
              "14053 features across 13999 samples within 1 assay \n",
              "Active assay: RNA (14053 features, 0 variable features)"
            ]
          },
          "metadata": {}
        }
      ]
    },
    {
      "cell_type": "code",
      "source": [
        "testdata <- ifnb"
      ],
      "metadata": {
        "id": "TU7A2fXTh1PQ"
      },
      "execution_count": null,
      "outputs": []
    },
    {
      "cell_type": "code",
      "source": [
        "testdata %>% dplyr::glimpse()"
      ],
      "metadata": {
        "id": "oXcrZfhUz7nW",
        "colab": {
          "base_uri": "https://localhost:8080/"
        },
        "outputId": "162c9ce3-5269-4675-dd07-1d872bb4af14"
      },
      "execution_count": null,
      "outputs": [
        {
          "output_type": "stream",
          "name": "stdout",
          "text": [
            "Formal class 'Seurat' [package \"Seurat\"] with 13 slots\n"
          ]
        },
        {
          "output_type": "stream",
          "name": "stderr",
          "text": [
            "Warning message:\n",
            "“Not a validObject(): no slot of name \"images\" for this object of class \"Seurat\"”\n"
          ]
        },
        {
          "output_type": "stream",
          "name": "stdout",
          "text": [
            "  ..@ assays      :List of 1\n",
            "  .. ..$ RNA:Formal class 'Assay' [package \"Seurat\"] with 8 slots\n"
          ]
        },
        {
          "output_type": "stream",
          "name": "stderr",
          "text": [
            "Warning message:\n",
            "“Not a validObject(): no slot of name \"assay.orig\" for this object of class \"Assay\"”\n"
          ]
        },
        {
          "output_type": "stream",
          "name": "stdout",
          "text": [
            "  ..@ meta.data   :'data.frame':\t13999 obs. of  5 variables:\n",
            "  .. ..$ orig.ident        : chr [1:13999] \"IMMUNE_CTRL\" \"IMMUNE_CTRL\" \"IMMUNE_CTRL\" \"IMMUNE_CTRL\" ...\n",
            "  .. ..$ nCount_RNA        : num [1:13999] 3017 2481 3420 3156 1868 ...\n",
            "  .. ..$ nFeature_RNA      : int [1:13999] 877 713 850 1109 634 557 980 581 880 669 ...\n",
            "  .. ..$ stim              : chr [1:13999] \"CTRL\" \"CTRL\" \"CTRL\" \"CTRL\" ...\n",
            "  .. ..$ seurat_annotations: Factor w/ 13 levels \"CD14 Mono\",\"CD4 Naive T\",..: 1 1 1 12 3 1 7 2 6 1 ...\n",
            "  ..@ active.assay: chr \"RNA\"\n",
            "  ..@ active.ident: Factor w/ 2 levels \"IMMUNE_CTRL\",..: 1 1 1 1 1 1 1 1 1 1 ...\n",
            "  .. ..- attr(*, \"names\")= chr [1:13999] \"AAACATACATTTCC.1\" \"AAACATACCAGAAA.1\" \"AAACATACCTCGCT.1\" \"AAACATACCTGGTA.1\" ...\n",
            "  ..@ graphs      : list()\n",
            "  ..@ neighbors   : list()\n",
            "  ..@ reductions  : list()\n",
            "  ..@ project.name: chr \"ifnb\"\n",
            "  ..@ misc        : list()\n",
            "  ..@ version     :Classes 'package_version', 'numeric_version'  hidden list of 1\n",
            "  .. ..$ : int [1:3] 3 0 0\n",
            "  ..@ commands    : list()\n",
            "  ..@ tools       : list()\n",
            "  ..@ NA          : NULL\n"
          ]
        }
      ]
    },
    {
      "cell_type": "markdown",
      "source": [
        "## Data Processing"
      ],
      "metadata": {
        "id": "7Lt2bhPcoxWZ"
      }
    },
    {
      "cell_type": "markdown",
      "source": [
        "We perform the typical data processing, integration, batch correction, and clustering before running Monocle3."
      ],
      "metadata": {
        "id": "SJP0H_1AozzB"
      }
    },
    {
      "cell_type": "code",
      "source": [
        "testdata <- Seurat::NormalizeData(testdata, verbose = FALSE) %>%\n",
        "            FindVariableFeatures(selection.method = \"vst\", nfeatures = 2000) %>%\n",
        "            ScaleData(verbose = FALSE) %>%\n",
        "            RunPCA(npcs = 30, verbose = FALSE) %>%\n",
        "            RunHarmony(\"stim\", plot_convergence = FALSE) %>%\n",
        "            RunUMAP(reduction = \"harmony\", dims = 1:30) %>%\n",
        "            FindNeighbors(reduction = \"harmony\", dims = 1:30) %>%\n",
        "            FindClusters(resolution = 0.5)"
      ],
      "metadata": {
        "id": "vV2jImJY0zMU",
        "colab": {
          "base_uri": "https://localhost:8080/"
        },
        "outputId": "4ae0c081-e155-42c9-e28e-37b38c3f1b71"
      },
      "execution_count": null,
      "outputs": [
        {
          "output_type": "stream",
          "name": "stderr",
          "text": [
            "Transposing data matrix\n",
            "\n",
            "Initializing state using k-means centroids initialization\n",
            "\n",
            "Harmony 1/10\n",
            "\n",
            "Harmony 2/10\n",
            "\n",
            "Harmony 3/10\n",
            "\n",
            "Harmony 4/10\n",
            "\n",
            "Harmony 5/10\n",
            "\n",
            "Harmony 6/10\n",
            "\n",
            "Harmony 7/10\n",
            "\n",
            "Harmony 8/10\n",
            "\n",
            "Harmony converged after 8 iterations\n",
            "\n",
            "Warning message:\n",
            "“Invalid name supplied, making object name syntactically valid. New object name is Seurat..ProjectDim.RNA.harmony; see ?make.names for more details on syntax validity”\n",
            "Warning message:\n",
            "“The default method for RunUMAP has changed from calling Python UMAP via reticulate to the R-native UWOT using the cosine metric\n",
            "To use Python UMAP via reticulate, set umap.method to 'umap-learn' and metric to 'correlation'\n",
            "This message will be shown once per session”\n",
            "14:14:15 UMAP embedding parameters a = 0.9922 b = 1.112\n",
            "\n",
            "14:14:15 Read 13999 rows and found 30 numeric columns\n",
            "\n",
            "14:14:15 Using Annoy for neighbor search, n_neighbors = 30\n",
            "\n",
            "14:14:15 Building Annoy index with metric = cosine, n_trees = 50\n",
            "\n",
            "0%   10   20   30   40   50   60   70   80   90   100%\n",
            "\n",
            "[----|----|----|----|----|----|----|----|----|----|\n",
            "\n",
            "*\n",
            "*\n",
            "*\n",
            "*\n",
            "*\n",
            "*\n",
            "*\n",
            "*\n",
            "*\n",
            "*\n",
            "*\n",
            "*\n",
            "*\n",
            "*\n",
            "*\n",
            "*\n",
            "*\n",
            "*\n",
            "*\n",
            "*\n",
            "*\n",
            "*\n",
            "*\n",
            "*\n",
            "*\n",
            "*\n",
            "*\n",
            "*\n",
            "*\n",
            "*\n",
            "*\n",
            "*\n",
            "*\n",
            "*\n",
            "*\n",
            "*\n",
            "*\n",
            "*\n",
            "*\n",
            "*\n",
            "*\n",
            "*\n",
            "*\n",
            "*\n",
            "*\n",
            "*\n",
            "*\n",
            "*\n",
            "*\n",
            "*\n",
            "|\n",
            "\n",
            "14:14:18 Writing NN index file to temp file /tmp/Rtmp44UUir/file140a9a585b\n",
            "\n",
            "14:14:18 Searching Annoy index using 1 thread, search_k = 3000\n",
            "\n",
            "14:14:25 Annoy recall = 100%\n",
            "\n",
            "14:14:26 Commencing smooth kNN distance calibration using 1 thread\n",
            " with target n_neighbors = 30\n",
            "\n",
            "14:14:28 Initializing from normalized Laplacian + noise (using irlba)\n",
            "\n",
            "14:14:28 Commencing optimization for 200 epochs, with 618918 positive edges\n",
            "\n",
            "14:14:37 Optimization finished\n",
            "\n",
            "Computing nearest neighbor graph\n",
            "\n",
            "Computing SNN\n",
            "\n"
          ]
        },
        {
          "output_type": "stream",
          "name": "stdout",
          "text": [
            "Modularity Optimizer version 1.3.0 by Ludo Waltman and Nees Jan van Eck\n",
            "\n",
            "Number of nodes: 13999\n",
            "Number of edges: 519906\n",
            "\n",
            "Running Louvain algorithm...\n",
            "Maximum modularity in 10 random starts: 0.8983\n",
            "Number of communities: 14\n",
            "Elapsed time: 4 seconds\n"
          ]
        }
      ]
    },
    {
      "cell_type": "markdown",
      "source": [
        "This is how the UMAP looks like:"
      ],
      "metadata": {
        "id": "Es00P1FOQAje"
      }
    },
    {
      "cell_type": "code",
      "source": [
        "scPlot <- DimPlot(testdata, label = TRUE, group.by = 'seurat_annotations')\n",
        "ggsave(\"01-DimPlot.png\", plot = scPlot, bg = \"white\")"
      ],
      "metadata": {
        "id": "KhRAUnt1WwPP",
        "colab": {
          "base_uri": "https://localhost:8080/"
        },
        "outputId": "800cefce-f78b-40b4-890b-c3be8f5c4d31"
      },
      "execution_count": null,
      "outputs": [
        {
          "output_type": "stream",
          "name": "stderr",
          "text": [
            "\u001b[1m\u001b[22mSaving 6.67 x 6.67 in image\n"
          ]
        }
      ]
    },
    {
      "cell_type": "markdown",
      "source": [
        "## Running Monocle3"
      ],
      "metadata": {
        "id": "Lt6tjyZlrF98"
      }
    },
    {
      "cell_type": "markdown",
      "source": [
        "We can convert a Seurat object to a CellDataSet object using the `as.cell_data_set()` function from the library SeuratWrappers. Then, this object is used by Monocle3 to infer the trajectories."
      ],
      "metadata": {
        "id": "dY27ELgPshLw"
      }
    },
    {
      "cell_type": "code",
      "source": [
        "cds <- as.cell_data_set(testdata)\n",
        "fData(cds)$gene_short_name <- rownames(fData(cds))"
      ],
      "metadata": {
        "id": "zSfhX5732TcT",
        "colab": {
          "base_uri": "https://localhost:8080/"
        },
        "outputId": "37477715-3ada-495d-a1b1-49f5b2a2d809"
      },
      "execution_count": null,
      "outputs": [
        {
          "output_type": "stream",
          "name": "stderr",
          "text": [
            "Warning message:\n",
            "“Monocle 3 trajectories require cluster partitions, which Seurat does not calculate. Please run 'cluster_cells' on your cell_data_set object”\n"
          ]
        }
      ]
    },
    {
      "cell_type": "code",
      "source": [
        "cds %>% dplyr::glimpse()"
      ],
      "metadata": {
        "id": "a0zS_mqjfMTo",
        "colab": {
          "base_uri": "https://localhost:8080/"
        },
        "outputId": "cb3f65ef-7639-4015-80a6-e3f6d4663a7d"
      },
      "execution_count": null,
      "outputs": [
        {
          "output_type": "stream",
          "name": "stdout",
          "text": [
            "Formal class 'cell_data_set' [package \"monocle3\"] with 13 slots\n",
            "  ..@ reduce_dim_aux     :Formal class 'SimpleList' [package \"S4Vectors\"] with 4 slots\n",
            "  ..@ principal_graph_aux:Formal class 'SimpleList' [package \"S4Vectors\"] with 4 slots\n",
            "  ..@ principal_graph    :Formal class 'SimpleList' [package \"S4Vectors\"] with 4 slots\n",
            "  ..@ clusters           :Formal class 'SimpleList' [package \"S4Vectors\"] with 4 slots\n",
            "  ..@ int_elementMetadata:Formal class 'DFrame' [package \"S4Vectors\"] with 6 slots\n",
            "  ..@ int_colData        :Formal class 'DFrame' [package \"S4Vectors\"] with 6 slots\n",
            "  ..@ int_metadata       :List of 2\n",
            "  .. ..$ version    :Classes 'package_version', 'numeric_version'  hidden list of 1\n",
            "  .. ..$ mainExpName: chr \"RNA\"\n",
            "  ..@ rowRanges          :Formal class 'CompressedGRangesList' [package \"GenomicRanges\"] with 5 slots\n",
            "  ..@ colData            :Formal class 'DFrame' [package \"S4Vectors\"] with 6 slots\n",
            "  ..@ assays             :Formal class 'SimpleAssays' [package \"SummarizedExperiment\"] with 1 slot\n",
            "  ..@ NAMES              : NULL\n",
            "  ..@ elementMetadata    :Formal class 'DFrame' [package \"S4Vectors\"] with 6 slots\n",
            "  ..@ metadata           : list()\n"
          ]
        }
      ]
    },
    {
      "cell_type": "markdown",
      "source": [
        "**Inferring trajectory**\n",
        "\n",
        "Monocle can learn when cells should be placed in the same trajectory as opposed to separate trajectories through its clustering procedure. In the clustering process, each cell is assigned not only to a cluster but also to a partition. When inferring trajectories, each partition will eventually become a separate trajectory. Here we cluster cells (`cluster_cells()`), then infer the trajectory (`learn_graph()`)."
      ],
      "metadata": {
        "id": "djlQWX4sWKfL"
      }
    },
    {
      "cell_type": "code",
      "source": [
        "cds <- cluster_cells(cds = cds, reduction_method = \"UMAP\", cluster_method = 'louvain') %>%\n",
        "       learn_graph(use_partition = T)"
      ],
      "metadata": {
        "id": "fLZHr4HNgo4H",
        "colab": {
          "base_uri": "https://localhost:8080/"
        },
        "outputId": "5edfd558-a814-4698-ddc6-e4b773a856ec"
      },
      "execution_count": null,
      "outputs": [
        {
          "output_type": "stream",
          "name": "stdout",
          "text": [
            "  |======================================================================| 100%\n",
            "  |======================================================================| 100%\n",
            "  |======================================================================| 100%\n"
          ]
        }
      ]
    },
    {
      "cell_type": "markdown",
      "source": [
        "We can then plot the inferred trajectory.\n",
        "\n",
        "The black lines show the structure of the graph. Here, the graph is not fully connected: cells in different partitions are in distinct components of the graph.\n",
        "\n",
        "The circles with numbers in them denote special points within the graph. Each leaf, denoted by light gray circles, corresponds to a different outcome (i.e. cell fate) of the trajectory. Black circles indicate branch nodes, in which cells can travel to one of several outcomes.\n",
        "\n",
        "You can control whether or not these are shown in the plot with the `label_leaves` and `label_branch_points` arguments to `plot_cells`. Please note that numbers within the circles are provided for reference purposes only."
      ],
      "metadata": {
        "id": "CXQIHuDgOyoE"
      }
    },
    {
      "cell_type": "code",
      "source": [
        "scPlot <- plot_cells(cds, color_cells_by = \"cluster\", label_groups_by_cluster = F,\n",
        "                       label_branch_points = T, label_roots = T, label_leaves = T,\n",
        "                       group_label_size = 5)\n",
        "ggsave(\"02-plot_cells.png\", plot = scPlot, bg = \"white\",width = 9, height = 9, dpi = 600)"
      ],
      "metadata": {
        "id": "27PFUEnEgu_c"
      },
      "execution_count": null,
      "outputs": []
    },
    {
      "cell_type": "markdown",
      "source": [
        "Here we can have a more clean visualization by removing labels"
      ],
      "metadata": {
        "id": "ZjtS3Ap6ZKDW"
      }
    },
    {
      "cell_type": "code",
      "source": [
        "scPlot <- plot_cells(cds, color_cells_by = \"cluster\", label_groups_by_cluster = F,\n",
        "                       label_branch_points = F, label_roots = F, label_leaves = F,\n",
        "                       group_label_size = 5)\n",
        "ggsave(\"03-plot_cells.png\", plot = scPlot, bg = \"white\",width = 9, height = 9, dpi = 600)"
      ],
      "metadata": {
        "id": "bT7lwGnmZJj1"
      },
      "execution_count": null,
      "outputs": []
    },
    {
      "cell_type": "markdown",
      "source": [
        "**Inferring pseudotime**\n",
        "\n",
        "Pseudotime serves as a measure of individual cell advancement in processes like cell differentiation. In various biological scenarios, cells don't progress uniformly, resulting in a diverse distribution of captured cells based on their progress.\n",
        "\n",
        "Monocle orders cells along a learned trajectory using pseudotime, which represents an abstract measure of progress. Pseudotime is determined by the distance between a cell and the trajectory's starting point, measured along the shortest path. The trajectory's length corresponds to the total transcriptional changes a cell undergoes from the initial to the final state."
      ],
      "metadata": {
        "id": "A2nw58WgNkgQ"
      }
    },
    {
      "cell_type": "markdown",
      "source": [
        "Comparing the annotated UMAP and the Monocle3 trajectory, we can define which Monocle clusters are the roots for inferring differentiation:"
      ],
      "metadata": {
        "id": "5wDsBz6Jb3Rc"
      }
    },
    {
      "cell_type": "code",
      "source": [
        "#options(repr.plot.height = 9, repr.plot.width = 16)\n",
        "\n",
        "gumap <- DimPlot(testdata, label = TRUE, group.by = 'seurat_annotations')\n",
        "gcluster <- plot_cells(cds, color_cells_by = \"cluster\", label_groups_by_cluster = F,\n",
        "                       label_branch_points = F, label_roots = F, label_leaves = F,\n",
        "                       group_label_size = 5)\n",
        "scPlot <- gumap + gcluster + theme(aspect.ratio = 1)\n",
        "ggsave(\"04-DimPlot-plot_cells.png\", plot = scPlot, bg = \"white\",width = 18, height = 9, dpi = 600)"
      ],
      "metadata": {
        "id": "3lX92BAhcBej"
      },
      "execution_count": null,
      "outputs": []
    },
    {
      "cell_type": "markdown",
      "source": [
        "Then, using the following command, we can select root cells or starting states in the trajectory and infer the pseudotime for each of the other cells."
      ],
      "metadata": {
        "id": "mHH6W9kfcB9R"
      }
    },
    {
      "cell_type": "code",
      "source": [
        "cds <- order_cells(cds, reduction_method = \"UMAP\", root_cells = colnames(cds[, clusters(cds) %in% c(3, 15, 9, 22)]))"
      ],
      "metadata": {
        "id": "MyjwsBAmgvCP"
      },
      "execution_count": null,
      "outputs": []
    },
    {
      "cell_type": "markdown",
      "source": [
        "Then we can color cells along their trajectory by using their pseudotimes."
      ],
      "metadata": {
        "id": "TXd33A1gOGkK"
      }
    },
    {
      "cell_type": "code",
      "source": [
        "options(repr.plot.height = 7, repr.plot.width = 7)\n",
        "scPlot1 <- plot_cells(cds, color_cells_by = \"pseudotime\", label_groups_by_cluster = F,\n",
        "                       label_branch_points = F, label_roots = F, label_leaves = F,\n",
        "                       group_label_size = 5)\n",
        "ggsave(\"05-plot_cells.png\", plot = scPlot1, bg = \"white\",width = 9, height = 9, dpi = 600)"
      ],
      "metadata": {
        "id": "elEM9t6zQVe1",
        "colab": {
          "base_uri": "https://localhost:8080/"
        },
        "outputId": "41ecfcdd-37d0-4dda-a92c-fbe88653ec33"
      },
      "execution_count": null,
      "outputs": [
        {
          "output_type": "stream",
          "name": "stderr",
          "text": [
            "Cells aren't colored in a way that allows them to be grouped.\n",
            "\n"
          ]
        }
      ]
    },
    {
      "cell_type": "markdown",
      "source": [
        "A joint UMAP representation of the Seurat Clusters, Trajectory, and Pseudotimes."
      ],
      "metadata": {
        "id": "BrbOCkpWW0D0"
      }
    },
    {
      "cell_type": "code",
      "source": [
        "#options(repr.plot.height=6, repr.plot.width=16)\n",
        "scPlot <- gumap + gcluster + scPlot1\n",
        "ggsave(\"06-Multiple_plots.png\", plot = scPlot, bg = \"white\",width = 27, height = 9, dpi = 600)"
      ],
      "metadata": {
        "id": "iCxXr6IxXWGA"
      },
      "execution_count": null,
      "outputs": []
    },
    {
      "cell_type": "markdown",
      "source": [
        "We can order the seurat clusters by the pseudotimes they are associated with."
      ],
      "metadata": {
        "id": "2C_wYN2UR2bR"
      }
    },
    {
      "cell_type": "code",
      "source": [
        "#options(repr.plot.height=7, repr.plot.width=7)\n",
        "\n",
        "cds$monocle3_pseudotime <- pseudotime(cds)\n",
        "data.pseudo <- as.data.frame(colData(cds))\n",
        "\n",
        "scPlot <- ggplot(data.pseudo, aes(monocle3_pseudotime, reorder(seurat_annotations, monocle3_pseudotime), fill = seurat_annotations)) + geom_boxplot()\n",
        "ggsave(\"07-boxplot.png\", plot = scPlot, bg = \"white\")"
      ],
      "metadata": {
        "id": "AiXew6cKR1zu",
        "colab": {
          "base_uri": "https://localhost:8080/"
        },
        "outputId": "eb225a33-971a-48d6-be1b-62a3a702173f"
      },
      "execution_count": null,
      "outputs": [
        {
          "output_type": "stream",
          "name": "stderr",
          "text": [
            "\u001b[1m\u001b[22mSaving 6.67 x 6.67 in image\n",
            "Warning message:\n",
            "“\u001b[1m\u001b[22mRemoved 183 rows containing non-finite values (`stat_boxplot()`).”\n"
          ]
        }
      ]
    },
    {
      "cell_type": "markdown",
      "source": [
        "Finally, we can inspect how gene expression of a few genes changes across pseudotimes."
      ],
      "metadata": {
        "id": "J39nrPvFXEjH"
      }
    },
    {
      "cell_type": "code",
      "source": [
        "cds_subset <- cds[c('CD44', 'CXCL2'),]"
      ],
      "metadata": {
        "id": "bwD003xLYjI1"
      },
      "execution_count": null,
      "outputs": []
    },
    {
      "cell_type": "code",
      "source": [
        "scPlot <- plot_genes_in_pseudotime(cds_subset)\n",
        "ggsave(\"08-genes_in_pseudotime.png\", plot = scPlot, bg = \"white\")"
      ],
      "metadata": {
        "id": "x1XETZdZZtxO",
        "colab": {
          "base_uri": "https://localhost:8080/"
        },
        "outputId": "8cc83989-5109-4f7f-c1a8-b43a4ff7b50d"
      },
      "execution_count": null,
      "outputs": [
        {
          "output_type": "stream",
          "name": "stderr",
          "text": [
            "\u001b[1m\u001b[22mSaving 6.67 x 6.67 in image\n",
            "Warning message:\n",
            "“\u001b[1m\u001b[22mTransformation introduced infinite values in continuous y-axis”\n",
            "Warning message:\n",
            "“\u001b[1m\u001b[22mTransformation introduced infinite values in continuous y-axis”\n",
            "Warning message in min(x):\n",
            "“no non-missing arguments to min; returning Inf”\n",
            "Warning message in max(x):\n",
            "“no non-missing arguments to max; returning -Inf”\n"
          ]
        }
      ]
    },
    {
      "cell_type": "code",
      "source": [
        "# With this code below we can identify genes that change their expression across pseudotimes. However, this takes time to run.\n",
        "#cds_pr_test_res <- graph_test(cds, neighbor_graph=\"principal_graph\", cores=4)\n",
        "#pr_deg_ids <- row.names(subset(cds_pr_test_res, q_value < 0.05))\n",
        "#pr_deg_ids"
      ],
      "metadata": {
        "id": "tipUDrurg4UO"
      },
      "execution_count": null,
      "outputs": []
    },
    {
      "cell_type": "markdown",
      "source": [
        "## Extra Questions:\n",
        "\n",
        "- How does selecting different root cells affect the analysis?\n",
        "- Perform the analysis for one cell type of interest. Can you identify cell subtypes?\n",
        "- Do the marker genes of this cell type change across pseudotime?"
      ],
      "metadata": {
        "id": "3yF7ucbruY_j"
      }
    },
    {
      "cell_type": "code",
      "source": [],
      "metadata": {
        "id": "cJoCML_XsUEg"
      },
      "execution_count": null,
      "outputs": []
    }
  ]
}